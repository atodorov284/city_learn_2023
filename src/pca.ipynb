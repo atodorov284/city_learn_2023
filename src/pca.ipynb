{
 "cells": [
  {
   "cell_type": "code",
   "execution_count": 38,
   "metadata": {},
   "outputs": [],
   "source": [
    "from citylearn.agents.base import Agent as RandomAgent\n",
    "from citylearn.agents.rbc import HourRBC\n",
    "from citylearn.agents.sac import SAC\n",
    "from citylearn.agents.q_learning import TabularQLearning\n",
    "from citylearn.citylearn import CityLearnEnv\n",
    "from pathlib import Path\n",
    "import pandas as pd"
   ]
  },
  {
   "cell_type": "code",
   "execution_count": 41,
   "metadata": {},
   "outputs": [],
   "source": [
    "root_directory = Path(\"../data/citylearn_challenge_2023_phase_1\")\n",
    "schema_path = root_directory / \"schema.json\"\n",
    "env = CityLearnEnv(schema=schema_path, root_directory=root_directory, central_agent=True)"
   ]
  },
  {
   "cell_type": "code",
   "execution_count": 43,
   "metadata": {},
   "outputs": [],
   "source": [
    "import numpy as np\n",
    "random_model = RandomAgent(env)\n",
    "\n",
    "observations = env.reset()\n",
    "observation_data = []\n",
    "\n",
    "\n",
    "while not env.done:\n",
    "    actions = random_model.predict(observations)\n",
    "    observations, reward, info, done = env.step(actions)\n",
    "    observation_data.append(np.array(observations[0]))"
   ]
  },
  {
   "cell_type": "code",
   "execution_count": 45,
   "metadata": {},
   "outputs": [],
   "source": [
    "import pandas as pd\n",
    "df = pd.DataFrame(observation_data)"
   ]
  },
  {
   "cell_type": "code",
   "execution_count": 46,
   "metadata": {},
   "outputs": [],
   "source": [
    "df.head()"
   ]
  },
  {
   "cell_type": "code",
   "execution_count": null,
   "metadata": {},
   "outputs": [],
   "source": [
    "import matplotlib.pyplot as plt\n",
    "\n",
    "for column in df.columns:\n",
    "    fig, ax = plt.subplots(figsize=(8, 5))\n",
    "    ax.hist(df[column], bins=30, alpha=0.7, color='blue', edgecolor='black')\n",
    "    ax.set_title(f'Distribution of {column}')\n",
    "    ax.set_xlabel(column)\n",
    "    ax.set_ylabel('Frequency')\n",
    "    ax.grid(axis='y', linestyle='--', alpha=0.5)\n",
    "    \n",
    "plt.tight_layout()\n",
    "plt.savefig('plots.png')"
   ]
  },
  {
   "cell_type": "code",
   "execution_count": null,
   "metadata": {},
   "outputs": [],
   "source": []
  }
 ],
 "metadata": {
  "kernelspec": {
   "display_name": ".venv",
   "language": "python",
   "name": "python3"
  },
  "language_info": {
   "codemirror_mode": {
    "name": "ipython",
    "version": 3
   },
   "file_extension": ".py",
   "mimetype": "text/x-python",
   "name": "python",
   "nbconvert_exporter": "python",
   "pygments_lexer": "ipython3",
   "version": "3.10.15"
  }
 },
 "nbformat": 4,
 "nbformat_minor": 2
}
